{
 "cells": [
  {
   "cell_type": "code",
   "execution_count": 15,
   "metadata": {},
   "outputs": [],
   "source": [
    "import pandas as pd\n",
    "import seaborn as sns\n",
    "import plotly.express as px\n",
    "import matplotlib.pyplot as plt\n",
    "import numpy as np"
   ]
  },
  {
   "cell_type": "code",
   "execution_count": 51,
   "metadata": {},
   "outputs": [],
   "source": [
    "def change_min_format(minute):\n",
    "    if len(minute) <= 6:\n",
    "        return \"00:\" + minute\n",
    "    else:\n",
    "        return minute\n",
    "\n",
    "df = pd.read_csv('./Data/2020/us_election_2020_1st_presidential_debate.csv')\n",
    "df.dropna(inplace=True)\n",
    "\n",
    "#Parse 'minute' column to DateTime format\n",
    "df['minute'] = df['minute'].apply(change_min_format)\n",
    "df['minute'] = pd.to_datetime(df['minute'])"
   ]
  },
  {
   "cell_type": "markdown",
   "metadata": {},
   "source": [
    "## Can we predict who says what given a speech in a debate?"
   ]
  },
  {
   "cell_type": "code",
   "execution_count": 122,
   "metadata": {},
   "outputs": [
    {
     "data": {
      "text/plain": [
       "President Donald J. Trump    314\n",
       "Vice President Joe Biden     249\n",
       "Chris Wallace                225\n",
       "Name: speaker, dtype: int64"
      ]
     },
     "execution_count": 122,
     "metadata": {},
     "output_type": "execute_result"
    }
   ],
   "source": [
    "df.speaker.value_counts()"
   ]
  },
  {
   "cell_type": "code",
   "execution_count": 125,
   "metadata": {},
   "outputs": [],
   "source": [
    "#Encode speaker to integer\n",
    "speaker_dict = {'President Donald J. Trump':0, 'Vice President Joe Biden':1, 'Chris Wallace':2} \n",
    "\n",
    "def speaker_encoding(speaker):\n",
    "    return speaker_dict[speaker]\n",
    "\n",
    "df['speaker_enc'] = df['speaker'].apply(speaker_encoding)"
   ]
  },
  {
   "cell_type": "code",
   "execution_count": 157,
   "metadata": {},
   "outputs": [
    {
     "data": {
      "text/plain": [
       "0.7341772151898734"
      ]
     },
     "execution_count": 157,
     "metadata": {},
     "output_type": "execute_result"
    }
   ],
   "source": [
    "# Training framework\n",
    "from sklearn.feature_extraction.text import TfidfVectorizer\n",
    "from sklearn.linear_model import LogisticRegression\n",
    "from sklearn.model_selection import train_test_split\n",
    "from sklearn.svm import LinearSVC\n",
    "\n",
    "tfidf = TfidfVectorizer(lowercase=True)\n",
    "\n",
    "X = tfidf.fit_transform(df.text)\n",
    "y = df['speaker_enc']\n",
    "\n",
    "X_train, X_test, y_train, y_test = train_test_split(X, y, random_state=42, test_size=0.1)\n",
    "\n",
    "model = LinearSVC(multi_class='ovr', random_state=42)\n",
    "model.fit(X_train, y_train)\n",
    "(model.predict(X_test) == y_test).mean()"
   ]
  }
 ],
 "metadata": {
  "kernelspec": {
   "display_name": "Python 3",
   "language": "python",
   "name": "python3"
  },
  "language_info": {
   "codemirror_mode": {
    "name": "ipython",
    "version": 3
   },
   "file_extension": ".py",
   "mimetype": "text/x-python",
   "name": "python",
   "nbconvert_exporter": "python",
   "pygments_lexer": "ipython3",
   "version": "3.8.5"
  }
 },
 "nbformat": 4,
 "nbformat_minor": 4
}
