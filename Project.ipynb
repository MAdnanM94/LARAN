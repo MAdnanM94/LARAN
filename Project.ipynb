{
 "cells": [
  {
   "cell_type": "code",
   "execution_count": 6,
   "id": "6caaecc8",
   "metadata": {},
   "outputs": [],
   "source": [
    "import pandas as pd\n",
    "import os\n",
    "from sklearn.pipeline import Pipeline\n",
    "from wordcloud import WordCloud\n",
    "from matplotlib import pyplot as plt\n",
    "from sklearn.naive_bayes import MultinomialNB\n",
    "import sklearn.feature_extraction.text as sk_text\n",
    "from sklearn.model_selection import train_test_split\n",
    "from sklearn.metrics import plot_confusion_matrix\n",
    "from sklearn.base import TransformerMixin\n",
    "from sklearn.base import BaseEstimator, RegressorMixin\n",
    "from wordcloud import WordCloud\n",
    "import numpy as np\n",
    "import re\n",
    "from nltk.stem import PorterStemmer"
   ]
  },
  {
   "cell_type": "markdown",
   "id": "4bdaf66a",
   "metadata": {},
   "source": [
    "We will first read the .csv files for the first and the second Presidential debate of 2020. Then we will combine these files by merging them."
   ]
  },
  {
   "cell_type": "code",
   "execution_count": 7,
   "id": "d418b005",
   "metadata": {},
   "outputs": [
    {
     "data": {
      "text/html": [
       "<div>\n",
       "<style scoped>\n",
       "    .dataframe tbody tr th:only-of-type {\n",
       "        vertical-align: middle;\n",
       "    }\n",
       "\n",
       "    .dataframe tbody tr th {\n",
       "        vertical-align: top;\n",
       "    }\n",
       "\n",
       "    .dataframe thead th {\n",
       "        text-align: right;\n",
       "    }\n",
       "</style>\n",
       "<table border=\"1\" class=\"dataframe\">\n",
       "  <thead>\n",
       "    <tr style=\"text-align: right;\">\n",
       "      <th></th>\n",
       "      <th>speaker</th>\n",
       "      <th>minute</th>\n",
       "      <th>text</th>\n",
       "    </tr>\n",
       "  </thead>\n",
       "  <tbody>\n",
       "    <tr>\n",
       "      <th>0</th>\n",
       "      <td>Chris Wallace</td>\n",
       "      <td>01:20</td>\n",
       "      <td>Good evening from the Health Education Campus ...</td>\n",
       "    </tr>\n",
       "    <tr>\n",
       "      <th>1</th>\n",
       "      <td>Chris Wallace</td>\n",
       "      <td>02:10</td>\n",
       "      <td>This debate is being conducted under health an...</td>\n",
       "    </tr>\n",
       "    <tr>\n",
       "      <th>2</th>\n",
       "      <td>Vice President Joe Biden</td>\n",
       "      <td>02:49</td>\n",
       "      <td>How you doing, man?</td>\n",
       "    </tr>\n",
       "    <tr>\n",
       "      <th>3</th>\n",
       "      <td>President Donald J. Trump</td>\n",
       "      <td>02:51</td>\n",
       "      <td>How are you doing?</td>\n",
       "    </tr>\n",
       "    <tr>\n",
       "      <th>4</th>\n",
       "      <td>Vice President Joe Biden</td>\n",
       "      <td>02:51</td>\n",
       "      <td>I’m well.</td>\n",
       "    </tr>\n",
       "  </tbody>\n",
       "</table>\n",
       "</div>"
      ],
      "text/plain": [
       "                     speaker minute  \\\n",
       "0              Chris Wallace  01:20   \n",
       "1              Chris Wallace  02:10   \n",
       "2   Vice President Joe Biden  02:49   \n",
       "3  President Donald J. Trump  02:51   \n",
       "4   Vice President Joe Biden  02:51   \n",
       "\n",
       "                                                text  \n",
       "0  Good evening from the Health Education Campus ...  \n",
       "1  This debate is being conducted under health an...  \n",
       "2                                How you doing, man?  \n",
       "3                                 How are you doing?  \n",
       "4                                          I’m well.  "
      ]
     },
     "execution_count": 7,
     "metadata": {},
     "output_type": "execute_result"
    }
   ],
   "source": [
    "path = '/Users/nikhil/data/ML_examples/erdos/'\n",
    "\n",
    "election_df_1 = pd.read_csv(path+'us_election_2020_1st_presidential_debate.csv')\n",
    "election_df_2 = pd.read_csv(path+'us_election_2020_2nd_presidential_debate.csv')\n",
    "election_df = pd.concat([election_df_1,election_df_2],axis=0)\n",
    "election_df[:5]"
   ]
  },
  {
   "cell_type": "markdown",
   "id": "38eeb5c4",
   "metadata": {},
   "source": [
    "Perform a train test split"
   ]
  },
  {
   "cell_type": "code",
   "execution_count": 8,
   "id": "4b66f6dd",
   "metadata": {},
   "outputs": [],
   "source": [
    "train_election,test_election = train_test_split(election_df.copy(),test_size=0.2, random_state=42)"
   ]
  },
  {
   "cell_type": "markdown",
   "id": "075011ca",
   "metadata": {},
   "source": [
    "Lets define the column transformer class. The column transformer will select only those rows from the data frame where the speaker is Joe Biden and Donald Trump (We will ignore text from Chris Wallace as he is the mediator). The column transformer will then add a target column to the data frame. The value in the target column for rows with speaker as Joe Biden  will be 1 and the value in the target column for rows with speaker as Donald Trump will be 0 (1 indicating that the candiddate got elected as the President and 0 otherwise)."
   ]
  },
  {
   "cell_type": "code",
   "execution_count": 10,
   "id": "47692227",
   "metadata": {},
   "outputs": [],
   "source": [
    "class Custom_Transformer(BaseEstimator, TransformerMixin):\n",
    "    '''speaker_1: Name of Presidential candidate 1 (string)\n",
    "       speaker_2: Name of Presidential candidate 2 (string)\n",
    "       target_1 : Target class of speaker 1(0 or 1) (int)\n",
    "       target_2 : Target class of speaker 2(0 or 1) (int)'''\n",
    "    def __init__(self,speaker_1,speaker_2,target_1,target_2):\n",
    "        self.speaker_1 = speaker_1\n",
    "        self.speaker_2 = speaker_2\n",
    "        self.target_1 = target_1\n",
    "        self.target_2 = target_2\n",
    "    def fit(self, X, y=None):\n",
    "        return self\n",
    "    def transform(self, X):\n",
    "        df_speaker1 = X[X['speaker']==self.speaker_1]\n",
    "        df_speaker2 = X[X['speaker']==self.speaker_2]\n",
    "        df_target_1 = pd.DataFrame(len(df_speaker1)*[self.target_1],index=df_speaker1.index)\n",
    "        df_target_2 = pd.DataFrame(len(df_speaker2)*[self.target_2],index=df_speaker2.index)\n",
    "        df_speaker1 = df_speaker1.assign(target=df_target_1)\n",
    "        df_speaker2 = df_speaker2.assign(target=df_target_2)\n",
    "        df_concat = pd.concat([df_speaker1,df_speaker2],axis=0)\n",
    "        return df_concat"
   ]
  },
  {
   "cell_type": "code",
   "execution_count": 11,
   "id": "08d04386",
   "metadata": {},
   "outputs": [
    {
     "data": {
      "text/html": [
       "<div>\n",
       "<style scoped>\n",
       "    .dataframe tbody tr th:only-of-type {\n",
       "        vertical-align: middle;\n",
       "    }\n",
       "\n",
       "    .dataframe tbody tr th {\n",
       "        vertical-align: top;\n",
       "    }\n",
       "\n",
       "    .dataframe thead th {\n",
       "        text-align: right;\n",
       "    }\n",
       "</style>\n",
       "<table border=\"1\" class=\"dataframe\">\n",
       "  <thead>\n",
       "    <tr style=\"text-align: right;\">\n",
       "      <th></th>\n",
       "      <th>speaker</th>\n",
       "      <th>minute</th>\n",
       "      <th>text</th>\n",
       "      <th>target</th>\n",
       "    </tr>\n",
       "  </thead>\n",
       "  <tbody>\n",
       "    <tr>\n",
       "      <th>536</th>\n",
       "      <td>Vice President Joe Biden</td>\n",
       "      <td>35:20</td>\n",
       "      <td>Law and order with justice, where people get t...</td>\n",
       "      <td>1</td>\n",
       "    </tr>\n",
       "    <tr>\n",
       "      <th>348</th>\n",
       "      <td>Vice President Joe Biden</td>\n",
       "      <td>18:53</td>\n",
       "      <td>By the way, I’m going to eliminate a significa...</td>\n",
       "      <td>1</td>\n",
       "    </tr>\n",
       "    <tr>\n",
       "      <th>135</th>\n",
       "      <td>Vice President Joe Biden</td>\n",
       "      <td>17:15</td>\n",
       "      <td>Sure.</td>\n",
       "      <td>1</td>\n",
       "    </tr>\n",
       "    <tr>\n",
       "      <th>309</th>\n",
       "      <td>Vice President Joe Biden</td>\n",
       "      <td>15:16</td>\n",
       "      <td>Show us your tax returns.</td>\n",
       "      <td>1</td>\n",
       "    </tr>\n",
       "    <tr>\n",
       "      <th>367</th>\n",
       "      <td>Vice President Joe Biden</td>\n",
       "      <td>20:45</td>\n",
       "      <td>He blew it.</td>\n",
       "      <td>1</td>\n",
       "    </tr>\n",
       "  </tbody>\n",
       "</table>\n",
       "</div>"
      ],
      "text/plain": [
       "                      speaker minute  \\\n",
       "536  Vice President Joe Biden  35:20   \n",
       "348  Vice President Joe Biden  18:53   \n",
       "135  Vice President Joe Biden  17:15   \n",
       "309  Vice President Joe Biden  15:16   \n",
       "367  Vice President Joe Biden  20:45   \n",
       "\n",
       "                                                  text  target  \n",
       "536  Law and order with justice, where people get t...       1  \n",
       "348  By the way, I’m going to eliminate a significa...       1  \n",
       "135                                              Sure.       1  \n",
       "309                          Show us your tax returns.       1  \n",
       "367                                        He blew it.       1  "
      ]
     },
     "execution_count": 11,
     "metadata": {},
     "output_type": "execute_result"
    }
   ],
   "source": [
    "Transformer = Custom_Transformer('Vice President Joe Biden','President Donald J. Trump',1,0)\n",
    "\n",
    "df_new_train = Transformer.fit_transform(train_election)\n",
    "df_new_test =  Transformer.fit_transform(test_election)\n",
    "\n",
    "df_new_train[:5]"
   ]
  },
  {
   "cell_type": "markdown",
   "id": "6c31d2be",
   "metadata": {},
   "source": [
    "Define the TF-IDF vectorizer by using ngrams = (1,1) for unigrams and ngrams = (2,2) for bigrams."
   ]
  },
  {
   "cell_type": "code",
   "execution_count": 13,
   "id": "9ea690ad",
   "metadata": {},
   "outputs": [],
   "source": [
    "bigrams = True\n",
    "if bigrams:\n",
    "   ngrams = (2,2)\n",
    "else:\n",
    "   ngrams = (1,1)\n",
    "   \n",
    "Tfidf = sk_text.TfidfVectorizer(lowercase=True,analyzer='word',stop_words= 'english',ngram_range=ngrams)"
   ]
  },
  {
   "cell_type": "markdown",
   "id": "a89b7f54",
   "metadata": {},
   "source": [
    "Separate the X and y for training and test data set. X is the 'text' column and y is the 'target' column."
   ]
  },
  {
   "cell_type": "code",
   "execution_count": 15,
   "id": "d361b5af",
   "metadata": {},
   "outputs": [
    {
     "data": {
      "text/plain": [
       "536    Law and order with justice, where people get t...\n",
       "348    By the way, I’m going to eliminate a significa...\n",
       "135                                                Sure.\n",
       "309                            Show us your tax returns.\n",
       "367                                          He blew it.\n",
       "Name: text, dtype: object"
      ]
     },
     "execution_count": 15,
     "metadata": {},
     "output_type": "execute_result"
    }
   ],
   "source": [
    "X = df_new_train['text']\n",
    "y = df_new_train['target']\n",
    "X_test = df_new_train['text']\n",
    "y_test = df_new_train['target']\n",
    "X[:5]"
   ]
  },
  {
   "cell_type": "markdown",
   "id": "57c8a368",
   "metadata": {},
   "source": [
    "Lets generate a pipeline called Voting_classifier. The pipeline will initially convert the 'text' column from the input data to a sparse matrix of words using the TF-IDF vectorizer and feed that sparse matrix to sklearn's Multinomial Naive Bayes estimator. The Pipeline function is very useful when we are dealing with huge NLP data sets which require a lot of preprocessing before feeding it to the model. The Pipeline function can also be used for hyper-parametrer tuning using MyGridSearchCV."
   ]
  },
  {
   "cell_type": "code",
   "execution_count": 17,
   "id": "54c0ef59",
   "metadata": {},
   "outputs": [],
   "source": [
    "Voting_classifier = Pipeline([(\"Tfidf vectorizer\",Tfidf),(\"Multinomial NB\",MultinomialNB())])"
   ]
  },
  {
   "cell_type": "markdown",
   "id": "940ac48a",
   "metadata": {},
   "source": [
    "Fit the Voting_classifier to the train data and make predictions on the test data."
   ]
  },
  {
   "cell_type": "code",
   "execution_count": 18,
   "id": "42cdff3f",
   "metadata": {},
   "outputs": [],
   "source": [
    "Voting_classifier.fit(X,y)\n",
    "y_predict = Voting_classifier.predict(X_test)"
   ]
  },
  {
   "cell_type": "markdown",
   "id": "8eabe2a1",
   "metadata": {},
   "source": [
    "Some metrics"
   ]
  },
  {
   "cell_type": "code",
   "execution_count": 19,
   "id": "f4a345b9",
   "metadata": {},
   "outputs": [
    {
     "name": "stderr",
     "output_type": "stream",
     "text": [
      "/Users/nikhil/anaconda3/lib/python3.7/site-packages/sklearn/utils/deprecation.py:87: FutureWarning: Function plot_confusion_matrix is deprecated; Function `plot_confusion_matrix` is deprecated in 1.0 and will be removed in 1.2. Use one of the class methods: ConfusionMatrixDisplay.from_predictions or ConfusionMatrixDisplay.from_estimator.\n",
      "  warnings.warn(msg, category=FutureWarning)\n"
     ]
    },
    {
     "data": {
      "text/plain": [
       "<sklearn.metrics._plot.confusion_matrix.ConfusionMatrixDisplay at 0x7f7e53c30610>"
      ]
     },
     "execution_count": 19,
     "metadata": {},
     "output_type": "execute_result"
    },
    {
     "data": {
      "image/png": "[encoded data removed]",
      "text/plain": [
       "<Figure size 432x288 with 2 Axes>"
      ]
     },
     "metadata": {
      "needs_background": "light"
     },
     "output_type": "display_data"
    }
   ],
   "source": [
    "plot_confusion_matrix(Voting_classifier, X_test, y_test)"
   ]
  },
  {
   "cell_type": "markdown",
   "id": "4e44b707",
   "metadata": {},
   "source": [
    "During training, the multinomial naive bayes calculates probabilities such as $Pr(\\textrm{'Great'}\\ |\\ \\textrm{Win}),$ the probability that the word \"Great\" appears in the candidate's speech, given that the candidate has won the election.  Using these probabilities, we can define a **polarity score** for each word $w$,\n",
    "\n",
    "$$\\textrm{polarity}(w) = \\log\\left(\\frac{Pr(w\\ |\\ \\textrm{won})}{Pr(w\\ |\\ \\textrm{lost})}\\right).$$\n",
    "\n",
    "Polarity analysis is an example where a simpler model (naive Bayes) offers more explicability than more complicated models.  Aside from this, naive Bayes models are easy to train, the training process is parallelizable, and these models lend themselves well to online learning.  Given enough training data, naive Bayes models have performed well in NLP applications such as spam filtering.\n",
    "\n",
    "Speaking in terms of python code, the command  \"**voting_classifier['Tfidf vectorizer'].get_feature_names_out()**\"  will give you a list of filtered words that were used as features in the multinomial naive bayes method. We can get **$\\log(Pr(w\\ |\\ \\textrm{won}))$** and **$\\log(Pr(w\\ |\\ \\textrm{lost}))$** by using the sklearn's \"**model.feature_log_prob**\" command as follows,\n",
    "\n",
    "$\\log(Pr(w\\ |\\ \\textrm{won}))$ = classifier['Multinomial NB'].feature_log_prob_[1]\n",
    "\n",
    "$\\log(Pr(w\\ |\\ \\textrm{lost}))$ = classifier['Multinomial NB'].feature_log_prob_[0]\n",
    "\n",
    "Using this, we can calculate the polarity score for all the words."
   ]
  },
  {
   "cell_type": "markdown",
   "id": "ea8c7990",
   "metadata": {},
   "source": [
    "Some of the words that the TF-IDF vectorizer uses as features are given below"
   ]
  },
  {
   "cell_type": "code",
   "execution_count": 29,
   "id": "535bb974",
   "metadata": {},
   "outputs": [
    {
     "name": "stdout",
     "output_type": "stream",
     "text": [
      "['basket' 'basket days' 'basket sent' 'bastards' 'beat' 'beat bernie'\n",
      " 'beat hell' 'beau' 'beau biden' 'beau know' 'beautiful' 'beautiful clean'\n",
      " 'beginning' 'beginning middle' 'believe' 'believe law' 'believe man'\n",
      " 'bench' 'bench right' 'bernie' 'bernie sanders' 'best' 'best way'\n",
      " 'best year' 'better' 'better choice' 'better healthcare' 'better home'\n",
      " 'better management' 'better republican' 'better shape' 'biden'\n",
      " 'biden administration' 'biden plan' 'biden talking' 'biden wanted' 'big'\n",
      " 'big chunk' 'big debates' 'big difference' 'big football'\n",
      " 'big incentives' 'big job' 'big pharma' 'big problem' 'big rallies'\n",
      " 'big statement' 'big stuff' 'big thing' 'bigger' 'bigger problem'\n",
      " 'biggest' 'biggest endorsers' 'bile' 'bile accompanied' 'billion'\n",
      " 'billion crosstalk' 'billion dollars' 'billion just' 'billion profligate'\n",
      " 'billion said' 'billion say' 'billion stop' 'billion year' 'billionaires'\n",
      " 'billionaires 300' 'billionaires gotten' 'billionaires like' 'billions'\n",
      " 'billions dollars' 'bit' 'bit carbon' 'bit gasoline' 'bit like' 'black'\n",
      " 'black community' 'blame' 'blame importantly' 'blame ll' 'bleach'\n",
      " 'bleach arm' 'blew' 'blew fact' 'blew gone' 'blood' 'blood ve' 'blooming'\n",
      " 'board' 'board tens' 'boomed' 'boomed like' 'booming' 'booming economy'\n",
      " 'booming weakest' 'bounty' 'bounty heads' 'boys' 'boys stand' 'brazil'\n",
      " 'brazil torn']\n"
     ]
    }
   ],
   "source": [
    "words = Voting_classifier['Tfidf vectorizer'].get_feature_names_out()\n",
    "\n",
    "print(words[500:600])"
   ]
  },
  {
   "cell_type": "code",
   "execution_count": 21,
   "id": "3c2a3fa7",
   "metadata": {},
   "outputs": [],
   "source": [
    "def get_polar_words(classifier,top):\n",
    "    coeff_pos = classifier['Multinomial NB'].feature_log_prob_[1]\n",
    "    coeff_neg = classifier['Multinomial NB'].feature_log_prob_[0]\n",
    "    words = classifier['Tfidf vectorizer'].get_feature_names_out()\n",
    "    words_join=[]\n",
    "    for w in words:\n",
    "        words_join.append(w.replace(\" \", \"_\"))\n",
    "    words_join = np.array(words_join)\n",
    "    polarity = coeff_pos-coeff_neg\n",
    "    polarity_sorted = np.sort(polarity)\n",
    "    index_sort = np.argsort(polarity)\n",
    "    words_sorted = words_join[index_sort]\n",
    "    words_positive = words_sorted[-top:]\n",
    "    words_negative = words_sorted[:top]\n",
    "    wc1 = WordCloud(width = 1000, height = 500).generate(\" \".join(words_positive))\n",
    "    wc2 = WordCloud(width = 1000, height = 500).generate(\" \".join(words_negative))\n",
    "    return wc1,wc2,words_join\n"
   ]
  },
  {
   "cell_type": "markdown",
   "id": "550f4eee",
   "metadata": {},
   "source": [
    "Lets plot the top 50 most polar words"
   ]
  },
  {
   "cell_type": "code",
   "execution_count": 25,
   "id": "4f0d13d1",
   "metadata": {},
   "outputs": [
    {
     "data": {
      "text/plain": [
       "Text(0.5, 0, 'Lost the election')"
      ]
     },
     "execution_count": 25,
     "metadata": {},
     "output_type": "execute_result"
    },
    {
     "data": {
      "image/png": "[encoded data removed]",
      "text/plain": [
       "<Figure size 432x288 with 2 Axes>"
      ]
     },
     "metadata": {},
     "output_type": "display_data"
    }
   ],
   "source": [
    "wc1,wc2,feature_names = get_polar_words(Voting_classifier,50)\n",
    "\n",
    "\n",
    "#plot polar words\n",
    "plt.subplot(1,2,1)\n",
    "plt.imshow(wc1)\n",
    "plt.xticks([])\n",
    "plt.yticks([])\n",
    "plt.xlabel('Won the election',fontsize=20)\n",
    "\n",
    "plt.subplot(1,2,2)\n",
    "plt.imshow(wc2)\n",
    "plt.xticks([])\n",
    "plt.yticks([])\n",
    "plt.xlabel('Lost the election',fontsize=20)\n"
   ]
  },
  {
   "cell_type": "code",
   "execution_count": null,
   "id": "ffc71eaa",
   "metadata": {},
   "outputs": [],
   "source": []
  }
 ],
 "metadata": {
  "kernelspec": {
   "display_name": "Python 3",
   "language": "python",
   "name": "python3"
  },
  "language_info": {
   "codemirror_mode": {
    "name": "ipython",
    "version": 3
   },
   "file_extension": ".py",
   "mimetype": "text/x-python",
   "name": "python",
   "nbconvert_exporter": "python",
   "pygments_lexer": "ipython3",
   "version": "3.7.10"
  }
 },
 "nbformat": 4,
 "nbformat_minor": 5
}
