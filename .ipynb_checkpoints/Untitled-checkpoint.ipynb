{
 "cells": [
  {
   "cell_type": "code",
   "execution_count": 2,
   "id": "modern-jewel",
   "metadata": {},
   "outputs": [
    {
     "name": "stdout",
     "output_type": "stream",
     "text": [
      "Collecting pyreadr\n",
      "  Downloading pyreadr-0.4.4-cp38-cp38-manylinux_2_17_x86_64.manylinux2014_x86_64.whl (363 kB)\n",
      "\u001b[K     |████████████████████████████████| 363 kB 2.3 MB/s eta 0:00:01\n",
      "\u001b[?25hRequirement already satisfied: pandas>=1.2.0 in /home/aniket/.local/lib/python3.8/site-packages (from pyreadr) (1.2.4)\n",
      "Requirement already satisfied: numpy>=1.16.5 in /home/aniket/.local/lib/python3.8/site-packages (from pandas>=1.2.0->pyreadr) (1.19.5)\n",
      "Requirement already satisfied: pytz>=2017.3 in /home/aniket/anaconda3/lib/python3.8/site-packages (from pandas>=1.2.0->pyreadr) (2021.1)\n",
      "Requirement already satisfied: python-dateutil>=2.7.3 in /home/aniket/.local/lib/python3.8/site-packages (from pandas>=1.2.0->pyreadr) (2.8.1)\n",
      "Requirement already satisfied: six>=1.5 in /home/aniket/.local/lib/python3.8/site-packages (from python-dateutil>=2.7.3->pandas>=1.2.0->pyreadr) (1.15.0)\n",
      "Installing collected packages: pyreadr\n",
      "Successfully installed pyreadr-0.4.4\n"
     ]
    }
   ],
   "source": [
    "!pip install pyreadr\n",
    "import pyreadr\n",
    "import pandas as pd"
   ]
  },
  {
   "cell_type": "code",
   "execution_count": 4,
   "id": "explicit-class",
   "metadata": {},
   "outputs": [],
   "source": [
    "result = pyreadr.read_r('debate_transcripts.rda')"
   ]
  },
  {
   "cell_type": "code",
   "execution_count": 5,
   "id": "complimentary-cleaning",
   "metadata": {},
   "outputs": [
    {
     "name": "stdout",
     "output_type": "stream",
     "text": [
      "odict_keys(['debate_transcripts'])\n"
     ]
    }
   ],
   "source": [
    "print(result.keys())"
   ]
  },
  {
   "cell_type": "code",
   "execution_count": 6,
   "id": "deluxe-coverage",
   "metadata": {},
   "outputs": [],
   "source": [
    "df=result[\"debate_transcripts\"]"
   ]
  },
  {
   "cell_type": "code",
   "execution_count": 7,
   "id": "voluntary-beast",
   "metadata": {},
   "outputs": [
    {
     "data": {
      "text/html": [
       "<div>\n",
       "<style scoped>\n",
       "    .dataframe tbody tr th:only-of-type {\n",
       "        vertical-align: middle;\n",
       "    }\n",
       "\n",
       "    .dataframe tbody tr th {\n",
       "        vertical-align: top;\n",
       "    }\n",
       "\n",
       "    .dataframe thead th {\n",
       "        text-align: right;\n",
       "    }\n",
       "</style>\n",
       "<table border=\"1\" class=\"dataframe\">\n",
       "  <thead>\n",
       "    <tr style=\"text-align: right;\">\n",
       "      <th></th>\n",
       "      <th>speaker</th>\n",
       "      <th>text</th>\n",
       "      <th>type</th>\n",
       "      <th>election_year</th>\n",
       "      <th>date</th>\n",
       "      <th>candidate</th>\n",
       "    </tr>\n",
       "  </thead>\n",
       "  <tbody>\n",
       "    <tr>\n",
       "      <th>0</th>\n",
       "      <td>Dorothy Ridings</td>\n",
       "      <td>Good evening from the Civic Center in Philadel...</td>\n",
       "      <td>VP</td>\n",
       "      <td>1984.0</td>\n",
       "      <td>1984-10-11</td>\n",
       "      <td>0.0</td>\n",
       "    </tr>\n",
       "    <tr>\n",
       "      <th>1</th>\n",
       "      <td>Sander Vanocur</td>\n",
       "      <td>Thank you, Dorothy. A few words about the orde...</td>\n",
       "      <td>VP</td>\n",
       "      <td>1984.0</td>\n",
       "      <td>1984-10-11</td>\n",
       "      <td>0.0</td>\n",
       "    </tr>\n",
       "    <tr>\n",
       "      <th>2</th>\n",
       "      <td>John Mashek</td>\n",
       "      <td>John Adams, our nations first vice- president,...</td>\n",
       "      <td>VP</td>\n",
       "      <td>1984.0</td>\n",
       "      <td>1984-10-11</td>\n",
       "      <td>0.0</td>\n",
       "    </tr>\n",
       "    <tr>\n",
       "      <th>3</th>\n",
       "      <td>George H. W. Bush</td>\n",
       "      <td>Well, I dont think theres a great difference, ...</td>\n",
       "      <td>VP</td>\n",
       "      <td>1984.0</td>\n",
       "      <td>1984-10-11</td>\n",
       "      <td>1.0</td>\n",
       "    </tr>\n",
       "    <tr>\n",
       "      <th>4</th>\n",
       "      <td>John Mashek</td>\n",
       "      <td>Well some Republicans have criticized Mr. Mond...</td>\n",
       "      <td>VP</td>\n",
       "      <td>1984.0</td>\n",
       "      <td>1984-10-11</td>\n",
       "      <td>0.0</td>\n",
       "    </tr>\n",
       "  </tbody>\n",
       "</table>\n",
       "</div>"
      ],
      "text/plain": [
       "             speaker                                               text type  \\\n",
       "0    Dorothy Ridings  Good evening from the Civic Center in Philadel...   VP   \n",
       "1     Sander Vanocur  Thank you, Dorothy. A few words about the orde...   VP   \n",
       "2        John Mashek  John Adams, our nations first vice- president,...   VP   \n",
       "3  George H. W. Bush  Well, I dont think theres a great difference, ...   VP   \n",
       "4        John Mashek  Well some Republicans have criticized Mr. Mond...   VP   \n",
       "\n",
       "   election_year        date  candidate  \n",
       "0         1984.0  1984-10-11        0.0  \n",
       "1         1984.0  1984-10-11        0.0  \n",
       "2         1984.0  1984-10-11        0.0  \n",
       "3         1984.0  1984-10-11        1.0  \n",
       "4         1984.0  1984-10-11        0.0  "
      ]
     },
     "execution_count": 7,
     "metadata": {},
     "output_type": "execute_result"
    }
   ],
   "source": [
    "df.head()"
   ]
  },
  {
   "cell_type": "code",
   "execution_count": 11,
   "id": "prerequisite-election",
   "metadata": {},
   "outputs": [
    {
     "name": "stdout",
     "output_type": "stream",
     "text": [
      "<class 'pandas.core.frame.DataFrame'>\n",
      "RangeIndex: 19435 entries, 0 to 19434\n",
      "Data columns (total 6 columns):\n",
      " #   Column         Non-Null Count  Dtype  \n",
      "---  ------         --------------  -----  \n",
      " 0   speaker        19435 non-null  object \n",
      " 1   text           19435 non-null  object \n",
      " 2   type           19435 non-null  object \n",
      " 3   election_year  19435 non-null  float64\n",
      " 4   date           19435 non-null  object \n",
      " 5   candidate      19435 non-null  float64\n",
      "dtypes: float64(2), object(4)\n",
      "memory usage: 911.1+ KB\n"
     ]
    }
   ],
   "source": [
    "df.info()"
   ]
  },
  {
   "cell_type": "code",
   "execution_count": null,
   "id": "satellite-diploma",
   "metadata": {},
   "outputs": [],
   "source": []
  }
 ],
 "metadata": {
  "kernelspec": {
   "display_name": "Python 3",
   "language": "python",
   "name": "python3"
  },
  "language_info": {
   "codemirror_mode": {
    "name": "ipython",
    "version": 3
   },
   "file_extension": ".py",
   "mimetype": "text/x-python",
   "name": "python",
   "nbconvert_exporter": "python",
   "pygments_lexer": "ipython3",
   "version": "3.8.8"
  }
 },
 "nbformat": 4,
 "nbformat_minor": 5
}
