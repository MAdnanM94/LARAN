{
 "cells": [
  {
   "cell_type": "markdown",
   "id": "curious-victorian",
   "metadata": {},
   "source": [
    "# Text classification using hugging face"
   ]
  },
  {
   "cell_type": "code",
   "execution_count": null,
   "id": "fleet-charlotte",
   "metadata": {},
   "outputs": [],
   "source": [
    "!pip install --upgrade pip -q\n",
    "!pip install -q ktrain"
   ]
  },
  {
   "cell_type": "code",
   "execution_count": 2,
   "id": "communist-darwin",
   "metadata": {},
   "outputs": [],
   "source": [
    "import numpy as np # linear algebra\n",
    "import pandas as pd # data processing, CSV file I/O (e.g. pd.read_csv)\n",
    "import warnings, gc\n",
    "warnings.filterwarnings(\"ignore\")\n",
    "\n",
    "# Tensorflow\n",
    "import tensorflow as tf\n",
    "\n",
    "# ktrain\n",
    "import ktrain\n",
    "from ktrain import text\n",
    "\n",
    "# sklearn\n",
    "from sklearn.model_selection import train_test_split"
   ]
  },
  {
   "cell_type": "code",
   "execution_count": 3,
   "id": "religious-chain",
   "metadata": {},
   "outputs": [
    {
     "data": {
      "text/html": [
       "<div>\n",
       "<style scoped>\n",
       "    .dataframe tbody tr th:only-of-type {\n",
       "        vertical-align: middle;\n",
       "    }\n",
       "\n",
       "    .dataframe tbody tr th {\n",
       "        vertical-align: top;\n",
       "    }\n",
       "\n",
       "    .dataframe thead th {\n",
       "        text-align: right;\n",
       "    }\n",
       "</style>\n",
       "<table border=\"1\" class=\"dataframe\">\n",
       "  <thead>\n",
       "    <tr style=\"text-align: right;\">\n",
       "      <th></th>\n",
       "      <th>Unnamed: 0</th>\n",
       "      <th>speaker</th>\n",
       "      <th>text</th>\n",
       "      <th>type</th>\n",
       "      <th>election_year</th>\n",
       "      <th>date</th>\n",
       "      <th>candidate</th>\n",
       "      <th>result</th>\n",
       "      <th>party</th>\n",
       "    </tr>\n",
       "  </thead>\n",
       "  <tbody>\n",
       "    <tr>\n",
       "      <th>0</th>\n",
       "      <td>0</td>\n",
       "      <td>John Kennedy</td>\n",
       "      <td>I uh – said that Ive served this country for f...</td>\n",
       "      <td>Pres</td>\n",
       "      <td>1960.0</td>\n",
       "      <td>1960-10-21</td>\n",
       "      <td>1.0</td>\n",
       "      <td>1</td>\n",
       "      <td>D</td>\n",
       "    </tr>\n",
       "    <tr>\n",
       "      <th>1</th>\n",
       "      <td>1</td>\n",
       "      <td>John Kennedy</td>\n",
       "      <td>Mr. Howe, Mr. Vice President. First uh – let m...</td>\n",
       "      <td>Pres</td>\n",
       "      <td>1960.0</td>\n",
       "      <td>1960-10-21</td>\n",
       "      <td>1.0</td>\n",
       "      <td>1</td>\n",
       "      <td>D</td>\n",
       "    </tr>\n",
       "    <tr>\n",
       "      <th>2</th>\n",
       "      <td>2</td>\n",
       "      <td>Richard Nixon</td>\n",
       "      <td>Mr. Howe, Senator Kennedy, my fellow Americans...</td>\n",
       "      <td>Pres</td>\n",
       "      <td>1960.0</td>\n",
       "      <td>1960-10-21</td>\n",
       "      <td>1.0</td>\n",
       "      <td>0</td>\n",
       "      <td>R</td>\n",
       "    </tr>\n",
       "    <tr>\n",
       "      <th>3</th>\n",
       "      <td>3</td>\n",
       "      <td>John Kennedy</td>\n",
       "      <td>Good evening, Mr. Howe.</td>\n",
       "      <td>Pres</td>\n",
       "      <td>1960.0</td>\n",
       "      <td>1960-10-21</td>\n",
       "      <td>1.0</td>\n",
       "      <td>1</td>\n",
       "      <td>D</td>\n",
       "    </tr>\n",
       "    <tr>\n",
       "      <th>4</th>\n",
       "      <td>4</td>\n",
       "      <td>Richard Nixon</td>\n",
       "      <td>Good evening, Mr. Howe.</td>\n",
       "      <td>Pres</td>\n",
       "      <td>1960.0</td>\n",
       "      <td>1960-10-21</td>\n",
       "      <td>1.0</td>\n",
       "      <td>0</td>\n",
       "      <td>R</td>\n",
       "    </tr>\n",
       "  </tbody>\n",
       "</table>\n",
       "</div>"
      ],
      "text/plain": [
       "   Unnamed: 0        speaker  \\\n",
       "0           0   John Kennedy   \n",
       "1           1   John Kennedy   \n",
       "2           2  Richard Nixon   \n",
       "3           3   John Kennedy   \n",
       "4           4  Richard Nixon   \n",
       "\n",
       "                                                text  type  election_year  \\\n",
       "0  I uh – said that Ive served this country for f...  Pres         1960.0   \n",
       "1  Mr. Howe, Mr. Vice President. First uh – let m...  Pres         1960.0   \n",
       "2  Mr. Howe, Senator Kennedy, my fellow Americans...  Pres         1960.0   \n",
       "3                            Good evening, Mr. Howe.  Pres         1960.0   \n",
       "4                            Good evening, Mr. Howe.  Pres         1960.0   \n",
       "\n",
       "         date  candidate  result party  \n",
       "0  1960-10-21        1.0       1     D  \n",
       "1  1960-10-21        1.0       1     D  \n",
       "2  1960-10-21        1.0       0     R  \n",
       "3  1960-10-21        1.0       1     D  \n",
       "4  1960-10-21        1.0       0     R  "
      ]
     },
     "execution_count": 3,
     "metadata": {},
     "output_type": "execute_result"
    }
   ],
   "source": [
    "df = pd.read_csv('finaldata_party.csv')\n",
    "df.head()\n"
   ]
  },
  {
   "cell_type": "code",
   "execution_count": 6,
   "id": "particular-advocacy",
   "metadata": {},
   "outputs": [
    {
     "data": {
      "text/html": [
       "<div>\n",
       "<style scoped>\n",
       "    .dataframe tbody tr th:only-of-type {\n",
       "        vertical-align: middle;\n",
       "    }\n",
       "\n",
       "    .dataframe tbody tr th {\n",
       "        vertical-align: top;\n",
       "    }\n",
       "\n",
       "    .dataframe thead th {\n",
       "        text-align: right;\n",
       "    }\n",
       "</style>\n",
       "<table border=\"1\" class=\"dataframe\">\n",
       "  <thead>\n",
       "    <tr style=\"text-align: right;\">\n",
       "      <th></th>\n",
       "      <th>Unnamed: 0</th>\n",
       "      <th>speaker</th>\n",
       "      <th>text</th>\n",
       "      <th>type</th>\n",
       "      <th>election_year</th>\n",
       "      <th>date</th>\n",
       "      <th>candidate</th>\n",
       "      <th>result</th>\n",
       "      <th>party</th>\n",
       "    </tr>\n",
       "  </thead>\n",
       "  <tbody>\n",
       "    <tr>\n",
       "      <th>0</th>\n",
       "      <td>0</td>\n",
       "      <td>John Kennedy</td>\n",
       "      <td>I uh – said that Ive served this country for f...</td>\n",
       "      <td>Pres</td>\n",
       "      <td>1960.0</td>\n",
       "      <td>1960-10-21</td>\n",
       "      <td>1.0</td>\n",
       "      <td>1</td>\n",
       "      <td>1</td>\n",
       "    </tr>\n",
       "    <tr>\n",
       "      <th>1</th>\n",
       "      <td>1</td>\n",
       "      <td>John Kennedy</td>\n",
       "      <td>Mr. Howe, Mr. Vice President. First uh – let m...</td>\n",
       "      <td>Pres</td>\n",
       "      <td>1960.0</td>\n",
       "      <td>1960-10-21</td>\n",
       "      <td>1.0</td>\n",
       "      <td>1</td>\n",
       "      <td>1</td>\n",
       "    </tr>\n",
       "    <tr>\n",
       "      <th>2</th>\n",
       "      <td>2</td>\n",
       "      <td>Richard Nixon</td>\n",
       "      <td>Mr. Howe, Senator Kennedy, my fellow Americans...</td>\n",
       "      <td>Pres</td>\n",
       "      <td>1960.0</td>\n",
       "      <td>1960-10-21</td>\n",
       "      <td>1.0</td>\n",
       "      <td>0</td>\n",
       "      <td>0</td>\n",
       "    </tr>\n",
       "    <tr>\n",
       "      <th>3</th>\n",
       "      <td>3</td>\n",
       "      <td>John Kennedy</td>\n",
       "      <td>Good evening, Mr. Howe.</td>\n",
       "      <td>Pres</td>\n",
       "      <td>1960.0</td>\n",
       "      <td>1960-10-21</td>\n",
       "      <td>1.0</td>\n",
       "      <td>1</td>\n",
       "      <td>1</td>\n",
       "    </tr>\n",
       "    <tr>\n",
       "      <th>4</th>\n",
       "      <td>4</td>\n",
       "      <td>Richard Nixon</td>\n",
       "      <td>Good evening, Mr. Howe.</td>\n",
       "      <td>Pres</td>\n",
       "      <td>1960.0</td>\n",
       "      <td>1960-10-21</td>\n",
       "      <td>1.0</td>\n",
       "      <td>0</td>\n",
       "      <td>0</td>\n",
       "    </tr>\n",
       "  </tbody>\n",
       "</table>\n",
       "</div>"
      ],
      "text/plain": [
       "   Unnamed: 0        speaker  \\\n",
       "0           0   John Kennedy   \n",
       "1           1   John Kennedy   \n",
       "2           2  Richard Nixon   \n",
       "3           3   John Kennedy   \n",
       "4           4  Richard Nixon   \n",
       "\n",
       "                                                text  type  election_year  \\\n",
       "0  I uh – said that Ive served this country for f...  Pres         1960.0   \n",
       "1  Mr. Howe, Mr. Vice President. First uh – let m...  Pres         1960.0   \n",
       "2  Mr. Howe, Senator Kennedy, my fellow Americans...  Pres         1960.0   \n",
       "3                            Good evening, Mr. Howe.  Pres         1960.0   \n",
       "4                            Good evening, Mr. Howe.  Pres         1960.0   \n",
       "\n",
       "         date  candidate  result party  \n",
       "0  1960-10-21        1.0       1     1  \n",
       "1  1960-10-21        1.0       1     1  \n",
       "2  1960-10-21        1.0       0     0  \n",
       "3  1960-10-21        1.0       1     1  \n",
       "4  1960-10-21        1.0       0     0  "
      ]
     },
     "execution_count": 6,
     "metadata": {},
     "output_type": "execute_result"
    }
   ],
   "source": [
    "df.loc[df['party']=='D', 'party']=1\n",
    "df.loc[df['party']=='R', 'party']=0\n",
    "df.head()\n",
    "#Democrats =1, Reps = 0"
   ]
  },
  {
   "cell_type": "code",
   "execution_count": 12,
   "id": "simple-webmaster",
   "metadata": {},
   "outputs": [],
   "source": [
    "target = ['party']\n",
    "data = ['text']\n",
    "\n",
    "X = df[data]\n",
    "y = df[target]\n",
    "\n",
    "X_train, X_test, y_train, y_test = train_test_split(X, y , test_size=0.1, random_state=42)"
   ]
  },
  {
   "cell_type": "code",
   "execution_count": 13,
   "id": "enclosed-disclosure",
   "metadata": {},
   "outputs": [],
   "source": [
    "# Common Parameters\n",
    "max_len = 500\n",
    "batch_size = 6\n",
    "learning_rate = 5e-5\n",
    "epochs = 1\n"
   ]
  },
  {
   "cell_type": "markdown",
   "id": "chinese-population",
   "metadata": {},
   "source": [
    "# With Roberta-base"
   ]
  },
  {
   "cell_type": "code",
   "execution_count": 14,
   "id": "recreational-exhibit",
   "metadata": {},
   "outputs": [
    {
     "data": {
      "application/vnd.jupyter.widget-view+json": {
       "model_id": "7527c7f054b74d5780b5a70802dcfab0",
       "version_major": 2,
       "version_minor": 0
      },
      "text/plain": [
       "Downloading:   0%|          | 0.00/481 [00:00<?, ?B/s]"
      ]
     },
     "metadata": {},
     "output_type": "display_data"
    },
    {
     "name": "stdout",
     "output_type": "stream",
     "text": [
      "preprocessing train...\n",
      "language: en\n",
      "train sequence lengths:\n",
      "\tmean : 93\n",
      "\t95percentile : 324\n",
      "\t99percentile : 441\n"
     ]
    },
    {
     "data": {
      "application/vnd.jupyter.widget-view+json": {
       "model_id": "5765d22f38be4b989603271007cad06a",
       "version_major": 2,
       "version_minor": 0
      },
      "text/plain": [
       "Downloading:   0%|          | 0.00/899k [00:00<?, ?B/s]"
      ]
     },
     "metadata": {},
     "output_type": "display_data"
    },
    {
     "data": {
      "application/vnd.jupyter.widget-view+json": {
       "model_id": "a25733de1c59432c8c539d56e7fda99a",
       "version_major": 2,
       "version_minor": 0
      },
      "text/plain": [
       "Downloading:   0%|          | 0.00/456k [00:00<?, ?B/s]"
      ]
     },
     "metadata": {},
     "output_type": "display_data"
    },
    {
     "data": {
      "application/vnd.jupyter.widget-view+json": {
       "model_id": "b3d523796ca94736b8e03640e4b49215",
       "version_major": 2,
       "version_minor": 0
      },
      "text/plain": [
       "Downloading:   0%|          | 0.00/1.36M [00:00<?, ?B/s]"
      ]
     },
     "metadata": {},
     "output_type": "display_data"
    },
    {
     "data": {
      "text/html": [
       "\n",
       "<style>\n",
       "    /* Turns off some styling */\n",
       "    progress {\n",
       "        /* gets rid of default border in Firefox and Opera. */\n",
       "        border: none;\n",
       "        /* Needs to be in here for Safari polyfill so background images work as expected. */\n",
       "        background-size: auto;\n",
       "    }\n",
       "    .progress-bar-interrupted, .progress-bar-interrupted::-webkit-progress-bar {\n",
       "        background: #F44336;\n",
       "    }\n",
       "</style>\n"
      ],
      "text/plain": [
       "<IPython.core.display.HTML object>"
      ]
     },
     "metadata": {},
     "output_type": "display_data"
    },
    {
     "data": {
      "text/html": [],
      "text/plain": [
       "<IPython.core.display.HTML object>"
      ]
     },
     "metadata": {},
     "output_type": "display_data"
    },
    {
     "name": "stdout",
     "output_type": "stream",
     "text": [
      "Is Multi-Label? False\n",
      "preprocessing train...\n",
      "language: en\n",
      "train sequence lengths:\n",
      "\tmean : 90\n",
      "\t95percentile : 328\n",
      "\t99percentile : 422\n"
     ]
    },
    {
     "data": {
      "text/html": [
       "\n",
       "<style>\n",
       "    /* Turns off some styling */\n",
       "    progress {\n",
       "        /* gets rid of default border in Firefox and Opera. */\n",
       "        border: none;\n",
       "        /* Needs to be in here for Safari polyfill so background images work as expected. */\n",
       "        background-size: auto;\n",
       "    }\n",
       "    .progress-bar-interrupted, .progress-bar-interrupted::-webkit-progress-bar {\n",
       "        background: #F44336;\n",
       "    }\n",
       "</style>\n"
      ],
      "text/plain": [
       "<IPython.core.display.HTML object>"
      ]
     },
     "metadata": {},
     "output_type": "display_data"
    },
    {
     "data": {
      "text/html": [],
      "text/plain": [
       "<IPython.core.display.HTML object>"
      ]
     },
     "metadata": {},
     "output_type": "display_data"
    },
    {
     "name": "stdout",
     "output_type": "stream",
     "text": [
      "Is Multi-Label? False\n"
     ]
    },
    {
     "data": {
      "application/vnd.jupyter.widget-view+json": {
       "model_id": "abf82309cfdb407881ef39fabddf6d9f",
       "version_major": 2,
       "version_minor": 0
      },
      "text/plain": [
       "Downloading:   0%|          | 0.00/657M [00:00<?, ?B/s]"
      ]
     },
     "metadata": {},
     "output_type": "display_data"
    }
   ],
   "source": [
    "# Transformer Model\n",
    "model_ = 'roberta-base'\n",
    "t_mod = text.Transformer(model_, maxlen=max_len, classes = [0,1])\n",
    "\n",
    "\n",
    "'''Converting split data to list [so it can processed]'''\n",
    "#train\n",
    "X_tr = X_train['text'].tolist()\n",
    "y_tr = y_train['party'].tolist()\n",
    "\n",
    "#test\n",
    "X_ts = X_test['text'].tolist()\n",
    "y_ts = y_test['party'].tolist()\n",
    "\n",
    "\n",
    "# Pre-processing training & test data\n",
    "train = t_mod.preprocess_train(X_tr,y_tr)\n",
    "test = t_mod.preprocess_train(X_ts,y_ts)\n",
    "\n",
    "# Model Classifier\n",
    "model = t_mod.get_classifier()\n",
    "\n",
    "learner = ktrain.get_learner(model, train_data=train, val_data=test, batch_size=batch_size)"
   ]
  },
  {
   "cell_type": "code",
   "execution_count": null,
   "id": "foster-infection",
   "metadata": {},
   "outputs": [
    {
     "name": "stdout",
     "output_type": "stream",
     "text": [
      "\n",
      "\n",
      "begin training using onecycle policy with max lr of 5e-05...\n"
     ]
    }
   ],
   "source": [
    "learner.fit_onecycle(learning_rate, epochs)"
   ]
  },
  {
   "cell_type": "code",
   "execution_count": null,
   "id": "chicken-depression",
   "metadata": {},
   "outputs": [],
   "source": []
  }
 ],
 "metadata": {
  "kernelspec": {
   "display_name": "Python 3",
   "language": "python",
   "name": "python3"
  },
  "language_info": {
   "codemirror_mode": {
    "name": "ipython",
    "version": 3
   },
   "file_extension": ".py",
   "mimetype": "text/x-python",
   "name": "python",
   "nbconvert_exporter": "python",
   "pygments_lexer": "ipython3",
   "version": "3.8.8"
  }
 },
 "nbformat": 4,
 "nbformat_minor": 5
}
